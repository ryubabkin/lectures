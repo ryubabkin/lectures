{
 "cells": [
  {
   "metadata": {},
   "cell_type": "markdown",
   "source": "# Stage 0: Preparation\n",
   "id": "ec14867decda1872"
  },
  {
   "metadata": {
    "ExecuteTime": {
     "end_time": "2024-06-05T15:18:50.045641Z",
     "start_time": "2024-06-05T15:18:49.644283Z"
    }
   },
   "cell_type": "code",
   "source": [
    "import tiktoken\n",
    "import dotenv\n",
    "import os\n",
    "dotenv.load_dotenv()\n",
    "# OR\n",
    "# os.environ[\"OPENAI_API_KEY\"] = \"your-openai-api-key\"\n",
    "\n",
    "OPENAI_MODEL = \"gpt-3.5-turbo\"\n",
    "\n",
    "encoder = tiktoken.get_encoding(\"cl100k_base\")"
   ],
   "id": "8d73791bccb9e217",
   "outputs": [],
   "execution_count": 1
  },
  {
   "metadata": {},
   "cell_type": "markdown",
   "source": "# Stage 1: LLM initialization",
   "id": "e74ce332f13d005d"
  },
  {
   "metadata": {
    "ExecuteTime": {
     "end_time": "2024-06-05T15:20:25.015308Z",
     "start_time": "2024-06-05T15:20:23.809838Z"
    }
   },
   "cell_type": "code",
   "source": [
    "from langchain_openai import ChatOpenAI\n",
    "\n",
    "llm = ChatOpenAI(\n",
    "    model=OPENAI_MODEL,\n",
    "    callbacks=[],  # Will be used in agents part\n",
    "    streaming=True,  # Streaming mode - response will be streamed token-by-token\n",
    "    temperature=0.5,  # Temperature of LLM response generation\n",
    "    max_tokens=1024  # Output tokens limit\n",
    ")"
   ],
   "id": "cbb51df665bfb94e",
   "outputs": [],
   "execution_count": 2
  },
  {
   "metadata": {
    "ExecuteTime": {
     "end_time": "2024-06-05T15:20:31.271127Z",
     "start_time": "2024-06-05T15:20:30.289202Z"
    }
   },
   "cell_type": "code",
   "source": [
    "result = llm.invoke(\"Hello, world!\").content\n",
    "print(result)\n",
    "print(f'IN tokens: {len(encoder.encode(\"Hello, world!\"))}, OUT tokens: {len(encoder.encode(result))}')\n"
   ],
   "id": "a4a549e5e04d7b50",
   "outputs": [
    {
     "name": "stdout",
     "output_type": "stream",
     "text": [
      "Hello! How can I assist you today?\n",
      "IN tokens: 4, OUT tokens: 9\n"
     ]
    }
   ],
   "execution_count": 3
  },
  {
   "metadata": {},
   "cell_type": "markdown",
   "source": "# Stage 2: Prompt Engineering",
   "id": "9d17f4525762d521"
  },
  {
   "metadata": {
    "ExecuteTime": {
     "end_time": "2024-06-05T15:23:14.683861Z",
     "start_time": "2024-06-05T15:23:14.671428Z"
    }
   },
   "cell_type": "code",
   "source": [
    "from langchain.prompts import PromptTemplate\n",
    "\n",
    "prompt = PromptTemplate(\n",
    "   template=\"Give responses to the following question: {question}. Be brief and give easy to understand responses. Your response should be in {language}\",\n",
    "   input_variables=[\"question\", \"language\"]\n",
    ")\n",
    "prompt_formatted_str: str = prompt.format(\n",
    "   question=\"Who is Santa Claus?\",\n",
    "   language=\"Ukrainian\"\n",
    ")\n",
    "print(prompt_formatted_str)"
   ],
   "id": "8080e6b9e18d25f2",
   "outputs": [
    {
     "name": "stdout",
     "output_type": "stream",
     "text": [
      "Give responses to the following question: Who is Santa Claus?. Be brief and give easy to understand responses. Your response should be in Ukrainian\n"
     ]
    }
   ],
   "execution_count": 4
  },
  {
   "metadata": {
    "ExecuteTime": {
     "end_time": "2024-06-05T15:23:35.468435Z",
     "start_time": "2024-06-05T15:23:33.962536Z"
    }
   },
   "cell_type": "code",
   "source": [
    "prediction = llm.invoke(prompt_formatted_str).content\n",
    "print(prediction)"
   ],
   "id": "e86d9a83ac1bbeb6",
   "outputs": [
    {
     "name": "stdout",
     "output_type": "stream",
     "text": [
      "Санта Клаус - це вигаданий чоловік, який розносить подарунки дітям у святкову ніч.\n"
     ]
    }
   ],
   "execution_count": 5
  },
  {
   "metadata": {},
   "cell_type": "markdown",
   "source": "# Stage 3: Chains",
   "id": "b9c9a88355b0babb"
  },
  {
   "metadata": {
    "ExecuteTime": {
     "end_time": "2024-06-05T15:28:14.146251Z",
     "start_time": "2024-06-05T15:28:13.736250Z"
    }
   },
   "cell_type": "code",
   "source": [
    "from langchain.callbacks.tracers import ConsoleCallbackHandler\n",
    "from langchain.chains import LLMMathChain\n",
    "\n",
    "prompt = PromptTemplate(\n",
    "   template=\"Generate a simple math task for adding {entity}.\",\n",
    "   input_variables=[\"entity\"]\n",
    ")\n",
    "math_chain = LLMMathChain.from_llm(llm=llm)\n",
    "chain = prompt | llm | math_chain\n"
   ],
   "id": "bb8bb10d7764e893",
   "outputs": [],
   "execution_count": 6
  },
  {
   "metadata": {
    "ExecuteTime": {
     "end_time": "2024-06-05T15:28:21.463174Z",
     "start_time": "2024-06-05T15:28:19.345729Z"
    }
   },
   "cell_type": "code",
   "source": "chain.invoke(\"apples\", config={'callbacks': [ConsoleCallbackHandler()]})",
   "id": "410af60ae6747292",
   "outputs": [
    {
     "name": "stdout",
     "output_type": "stream",
     "text": [
      "\u001B[32;1m\u001B[1;3m[chain/start]\u001B[0m \u001B[1m[chain:RunnableSequence] Entering Chain run with input:\n",
      "\u001B[0m{\n",
      "  \"input\": \"apples\"\n",
      "}\n",
      "\u001B[32;1m\u001B[1;3m[chain/start]\u001B[0m \u001B[1m[chain:RunnableSequence > prompt:PromptTemplate] Entering Prompt run with input:\n",
      "\u001B[0m{\n",
      "  \"input\": \"apples\"\n",
      "}\n",
      "\u001B[36;1m\u001B[1;3m[chain/end]\u001B[0m \u001B[1m[chain:RunnableSequence > prompt:PromptTemplate] [1ms] Exiting Prompt run with output:\n",
      "\u001B[0m[outputs]\n",
      "\u001B[32;1m\u001B[1;3m[llm/start]\u001B[0m \u001B[1m[chain:RunnableSequence > llm:ChatOpenAI] Entering LLM run with input:\n",
      "\u001B[0m{\n",
      "  \"prompts\": [\n",
      "    \"Human: Generate a simple math task for adding apples.\"\n",
      "  ]\n",
      "}\n",
      "\u001B[36;1m\u001B[1;3m[llm/end]\u001B[0m \u001B[1m[chain:RunnableSequence > llm:ChatOpenAI] [1.06s] Exiting LLM run with output:\n",
      "\u001B[0m{\n",
      "  \"generations\": [\n",
      "    [\n",
      "      {\n",
      "        \"text\": \"If you have 5 apples and you buy 3 more apples, how many apples do you have in total?\",\n",
      "        \"generation_info\": {\n",
      "          \"finish_reason\": \"stop\"\n",
      "        },\n",
      "        \"type\": \"ChatGeneration\",\n",
      "        \"message\": {\n",
      "          \"lc\": 1,\n",
      "          \"type\": \"constructor\",\n",
      "          \"id\": [\n",
      "            \"langchain\",\n",
      "            \"schema\",\n",
      "            \"messages\",\n",
      "            \"AIMessage\"\n",
      "          ],\n",
      "          \"kwargs\": {\n",
      "            \"content\": \"If you have 5 apples and you buy 3 more apples, how many apples do you have in total?\",\n",
      "            \"response_metadata\": {\n",
      "              \"finish_reason\": \"stop\"\n",
      "            },\n",
      "            \"type\": \"ai\",\n",
      "            \"id\": \"run-54587afa-6a3b-4ba3-a5be-84cb9afac320-0\",\n",
      "            \"tool_calls\": [],\n",
      "            \"invalid_tool_calls\": []\n",
      "          }\n",
      "        }\n",
      "      }\n",
      "    ]\n",
      "  ],\n",
      "  \"llm_output\": null,\n",
      "  \"run\": null\n",
      "}\n",
      "\u001B[32;1m\u001B[1;3m[chain/start]\u001B[0m \u001B[1m[chain:RunnableSequence > chain:LLMMathChain] Entering Chain run with input:\n",
      "\u001B[0m[inputs]\n",
      "\u001B[32;1m\u001B[1;3m[chain/start]\u001B[0m \u001B[1m[chain:RunnableSequence > chain:LLMMathChain > chain:LLMChain] Entering Chain run with input:\n",
      "\u001B[0m[inputs]\n",
      "\u001B[32;1m\u001B[1;3m[llm/start]\u001B[0m \u001B[1m[chain:RunnableSequence > chain:LLMMathChain > chain:LLMChain > llm:ChatOpenAI] Entering LLM run with input:\n",
      "\u001B[0m{\n",
      "  \"prompts\": [\n",
      "    \"Human: Translate a math problem into a expression that can be executed using Python's numexpr library. Use the output of running this code to answer the question.\\n\\nQuestion: ${Question with math problem.}\\n```text\\n${single line mathematical expression that solves the problem}\\n```\\n...numexpr.evaluate(text)...\\n```output\\n${Output of running the code}\\n```\\nAnswer: ${Answer}\\n\\nBegin.\\n\\nQuestion: What is 37593 * 67?\\n```text\\n37593 * 67\\n```\\n...numexpr.evaluate(\\\"37593 * 67\\\")...\\n```output\\n2518731\\n```\\nAnswer: 2518731\\n\\nQuestion: 37593^(1/5)\\n```text\\n37593**(1/5)\\n```\\n...numexpr.evaluate(\\\"37593**(1/5)\\\")...\\n```output\\n8.222831614237718\\n```\\nAnswer: 8.222831614237718\\n\\nQuestion: content='If you have 5 apples and you buy 3 more apples, how many apples do you have in total?' response_metadata={'finish_reason': 'stop'} id='run-54587afa-6a3b-4ba3-a5be-84cb9afac320-0'\"\n",
      "  ]\n",
      "}\n",
      "\u001B[36;1m\u001B[1;3m[llm/end]\u001B[0m \u001B[1m[chain:RunnableSequence > chain:LLMMathChain > chain:LLMChain > llm:ChatOpenAI] [1.01s] Exiting LLM run with output:\n",
      "\u001B[0m{\n",
      "  \"generations\": [\n",
      "    [\n",
      "      {\n",
      "        \"text\": \"```text\\n5 + 3\\n```\\n...numexpr.evaluate(\\\"5 + 3\\\")...\\n\",\n",
      "        \"generation_info\": {\n",
      "          \"finish_reason\": \"stop\"\n",
      "        },\n",
      "        \"type\": \"ChatGeneration\",\n",
      "        \"message\": {\n",
      "          \"lc\": 1,\n",
      "          \"type\": \"constructor\",\n",
      "          \"id\": [\n",
      "            \"langchain\",\n",
      "            \"schema\",\n",
      "            \"messages\",\n",
      "            \"AIMessage\"\n",
      "          ],\n",
      "          \"kwargs\": {\n",
      "            \"content\": \"```text\\n5 + 3\\n```\\n...numexpr.evaluate(\\\"5 + 3\\\")...\\n\",\n",
      "            \"response_metadata\": {\n",
      "              \"finish_reason\": \"stop\"\n",
      "            },\n",
      "            \"type\": \"ai\",\n",
      "            \"id\": \"run-a4e05a18-269c-48a3-9fac-76a7107688bd-0\",\n",
      "            \"tool_calls\": [],\n",
      "            \"invalid_tool_calls\": []\n",
      "          }\n",
      "        }\n",
      "      }\n",
      "    ]\n",
      "  ],\n",
      "  \"llm_output\": null,\n",
      "  \"run\": null\n",
      "}\n",
      "\u001B[36;1m\u001B[1;3m[chain/end]\u001B[0m \u001B[1m[chain:RunnableSequence > chain:LLMMathChain > chain:LLMChain] [1.01s] Exiting Chain run with output:\n",
      "\u001B[0m{\n",
      "  \"text\": \"```text\\n5 + 3\\n```\\n...numexpr.evaluate(\\\"5 + 3\\\")...\\n\"\n",
      "}\n",
      "\u001B[36;1m\u001B[1;3m[chain/end]\u001B[0m \u001B[1m[chain:RunnableSequence > chain:LLMMathChain] [1.03s] Exiting Chain run with output:\n",
      "\u001B[0m{\n",
      "  \"answer\": \"Answer: 8\"\n",
      "}\n",
      "\u001B[36;1m\u001B[1;3m[chain/end]\u001B[0m \u001B[1m[chain:RunnableSequence] [2.09s] Exiting Chain run with output:\n",
      "\u001B[0m[outputs]\n"
     ]
    },
    {
     "data": {
      "text/plain": [
       "{'question': AIMessage(content='If you have 5 apples and you buy 3 more apples, how many apples do you have in total?', response_metadata={'finish_reason': 'stop'}, id='run-54587afa-6a3b-4ba3-a5be-84cb9afac320-0'),\n",
       " 'answer': 'Answer: 8'}"
      ]
     },
     "execution_count": 7,
     "metadata": {},
     "output_type": "execute_result"
    }
   ],
   "execution_count": 7
  },
  {
   "metadata": {},
   "cell_type": "markdown",
   "source": "# Stage 4: Agents and Tools",
   "id": "ca6aec1d9b480cd1"
  },
  {
   "metadata": {
    "ExecuteTime": {
     "end_time": "2024-06-05T15:39:09.509992Z",
     "start_time": "2024-06-05T15:39:08.920726Z"
    }
   },
   "cell_type": "code",
   "source": [
    "from langchain_community.utilities import WikipediaAPIWrapper\n",
    "from langchain_core.prompts import ChatPromptTemplate\n",
    "from langchain.agents import AgentExecutor, create_tool_calling_agent, Tool, load_tools\n",
    "\n",
    "prompt = ChatPromptTemplate.from_messages(\n",
    "    [\n",
    "        (\"system\", \"You are a helpful assistant\"),\n",
    "        (\"human\", \"{input}\"),\n",
    "        (\"placeholder\", \"{agent_scratchpad}\"),\n",
    "    ]\n",
    ")\n",
    "\n",
    "wikipedia_tool = Tool(\n",
    "    name=\"Wikipedia\",\n",
    "    func= WikipediaAPIWrapper().run,\n",
    "\tdescription=\"A useful tool for searching the Internet to find information on world events, issues, dates, years, etc. Worth using for general topics. Use precise questions.\"\n",
    ")\n",
    "\n",
    "tools_set = [\n",
    "    wikipedia_tool,\n",
    "    load_tools([\"llm-math\"], llm=llm)[0]\n",
    "]\n",
    "\n",
    "agent = create_tool_calling_agent(\n",
    "    tools=tools_set,\n",
    "    llm=llm,\n",
    "    prompt=prompt\n",
    ")\n",
    "agent_executor = AgentExecutor(agent=agent, tools=tools_set, verbose=True)\n"
   ],
   "id": "407805e2ace78e32",
   "outputs": [],
   "execution_count": 8
  },
  {
   "metadata": {
    "ExecuteTime": {
     "end_time": "2024-06-05T15:39:53.054560Z",
     "start_time": "2024-06-05T15:39:43.794336Z"
    }
   },
   "cell_type": "code",
   "source": "result = agent_executor.invoke({\"input\" :\"Add radius of Earth to radius of Moon and multiply by 2\"})",
   "id": "63a580c75068d327",
   "outputs": [
    {
     "name": "stdout",
     "output_type": "stream",
     "text": [
      "\n",
      "\n",
      "\u001B[1m> Entering new AgentExecutor chain...\u001B[0m\n",
      "\u001B[32;1m\u001B[1;3m\n",
      "Invoking: `Calculator` with `(6371 + 1737) * 2`\n",
      "\n",
      "\n",
      "\u001B[0m\u001B[33;1m\u001B[1;3mAnswer: 16216\u001B[0m\u001B[32;1m\u001B[1;3m\n",
      "Invoking: `Wikipedia` with `radius of Earth`\n",
      "\n",
      "\n",
      "\u001B[0m\u001B[36;1m\u001B[1;3mPage: Earth radius\n",
      "Summary: Earth radius (denoted as R🜨 or \n",
      "  \n",
      "    \n",
      "      \n",
      "        \n",
      "          R\n",
      "          \n",
      "            E\n",
      "          \n",
      "        \n",
      "      \n",
      "    \n",
      "    {\\displaystyle R_{E}}\n",
      "  \n",
      ") is the distance from the center of Earth to a point on or near its surface. Approximating the figure of Earth by an Earth spheroid, the radius ranges from a maximum of nearly 6,378 km (3,963 mi) (equatorial radius, denoted a) to a minimum of nearly 6,357 km (3,950 mi) (polar radius, denoted b). \n",
      "A nominal Earth radius is sometimes used as a unit of measurement in astronomy and geophysics, which is recommended by the International Astronomical Union to be the equatorial value.\n",
      "A globally-average value is usually considered to be 6,371 kilometres (3,959 mi) with a 0.3% variability (±10 km) for the following reasons.\n",
      "The International Union of Geodesy and Geophysics (IUGG) provides three reference values: the mean radius (R1) of three radii measured at two equator points and a pole; the authalic radius, which is the radius of a sphere with the same surface area (R2); and the volumetric radius, which is the radius of a sphere having the same volume as the ellipsoid (R3). All three values are about 6,371 kilometres (3,959 mi).\n",
      "Other ways to define and measure the Earth's radius involve the radius of curvature. A few definitions yield values outside the range between the polar radius and equatorial radius because they include local or geoidal topography or because they depend on abstract geometrical considerations.\n",
      "\n",
      "\n",
      "\n",
      "Page: Moon\n",
      "Summary: The Moon is Earth's only natural satellite. It orbits at an average distance of 384,400 km (238,900 mi), about 30 times the diameter of Earth. Over time Earth's gravity has caused tidal locking, causing the same side of the Moon to always face Earth. Because of this, the lunar day and the lunar month are the same length, at 29.5 Earth days. The Moon's gravitational pull – and to a lesser extent, the Sun's – are the main drivers of Earth's tides.\n",
      "In geophysical terms the Moon is a planetary-mass object or satellite planet. Its mass is 1.2% that of the Earth, and its diameter is 3,474 km (2,159 mi), roughly one-quarter of Earth's (about as wide as Australia.) Within the Solar System, it is the largest and most massive satellite in relation to its parent planet, the fifth largest and most massive moon overall, and larger and more massive than all known dwarf planets. Its surface gravity is about one sixth of Earth's, about half of that of Mars, and the second highest among all Solar System moons, after Jupiter's moon Io. The body of the Moon is differentiated and terrestrial, with no significant hydrosphere, atmosphere, or magnetic field. It formed 4.51 billion years ago, not long after Earth's formation, out of the debris from a giant impact between Earth and a hypothesized Mars-sized body called Theia.\n",
      "The lunar surface is covered in lunar dust and marked by mountains, impact craters, their ejecta, ray-like streaks and, mostly on the near side of the Moon, by dark maria (\"seas\"), which are plains of cooled magma. These maria were formed when molten lava flowed into ancient impact basins. The Moon is, except when passing through Earth's shadow during a lunar eclipse, always illuminated by the Sun, but from Earth the visible illumination shifts during its orbit, producing the lunar phases. The Moon is the brightest celestial object in Earth's night sky. This is mainly due to its large angular diameter, while the reflectance of the lunar surface is comparable to that of asphalt. The apparent size is nearly the same as that of the Sun, allowing it to cover the Sun completely during a total solar eclipse. From Earth about 59% of the lunar surface is visible over time due to cyclical shifts in perspective (libration), making parts of the far side of the Moon visible.\n",
      "The Moon has been an important source of inspiration and knowledge for humans, having been crucial to cosmography, mythology, religion, art, time keeping, natura\u001B[0m\u001B[32;1m\u001B[1;3mThe sum of the radius of Earth and the radius of the Moon multiplied by 2 is 16,216 kilometers.\n",
      "\n",
      "The radius of Earth is the distance from the center of Earth to a point on or near its surface. The nominal Earth radius is usually considered to be 6,371 kilometers with a variability of about ±110 kilometers.\u001B[0m\n",
      "\n",
      "\u001B[1m> Finished chain.\u001B[0m\n"
     ]
    }
   ],
   "execution_count": 9
  },
  {
   "metadata": {
    "ExecuteTime": {
     "end_time": "2024-06-05T15:40:34.974956Z",
     "start_time": "2024-06-05T15:40:34.969172Z"
    }
   },
   "cell_type": "code",
   "source": "print(result['output'])",
   "id": "9fd7ae7366bacac9",
   "outputs": [
    {
     "name": "stdout",
     "output_type": "stream",
     "text": [
      "The sum of the radius of Earth and the radius of the Moon multiplied by 2 is 16,216 kilometers.\n",
      "\n",
      "The radius of Earth is the distance from the center of Earth to a point on or near its surface. The nominal Earth radius is usually considered to be 6,371 kilometers with a variability of about ±110 kilometers.\n"
     ]
    }
   ],
   "execution_count": 10
  },
  {
   "metadata": {},
   "cell_type": "markdown",
   "source": "# Stage 5: Conversation Memory, Chat",
   "id": "843ef0a4e4596f0b"
  },
  {
   "metadata": {
    "ExecuteTime": {
     "end_time": "2024-06-05T15:51:17.715059Z",
     "start_time": "2024-06-05T15:51:16.159355Z"
    }
   },
   "cell_type": "code",
   "source": [
    "from langchain.chains import ConversationChain\n",
    "from langchain.chains.conversation.memory import ConversationBufferMemory\n",
    "\n",
    "conversation_with_memory = ConversationChain(\n",
    "    llm=llm,\n",
    "    memory=ConversationBufferMemory(),\n",
    "    verbose=False\n",
    ")\n",
    "print(conversation_with_memory.predict(input=\"Hi!\"))\n",
    "print(conversation_with_memory.predict(input=\"What was my previous message?\"))"
   ],
   "id": "3ed40868de8f1a1c",
   "outputs": [
    {
     "name": "stdout",
     "output_type": "stream",
     "text": [
      "Hello! How are you today?\n",
      "Your previous message was \"Hi!\"\n"
     ]
    }
   ],
   "execution_count": 11
  },
  {
   "metadata": {
    "ExecuteTime": {
     "end_time": "2024-06-05T15:51:50.164265Z",
     "start_time": "2024-06-05T15:51:49.150906Z"
    }
   },
   "cell_type": "code",
   "source": "llm.invoke(\"What was my previous question?\").content",
   "id": "3103f3bd6e31430a",
   "outputs": [
    {
     "data": {
      "text/plain": [
       "'Your previous question was \"What is the capital of France?\"'"
      ]
     },
     "execution_count": 13,
     "metadata": {},
     "output_type": "execute_result"
    }
   ],
   "execution_count": 13
  },
  {
   "metadata": {},
   "cell_type": "markdown",
   "source": "# Stage 6: Vector Stores and Similarity Search",
   "id": "40ba7825598bb514"
  },
  {
   "metadata": {
    "ExecuteTime": {
     "end_time": "2024-06-05T16:07:00.788706Z",
     "start_time": "2024-06-05T16:06:54.693091Z"
    }
   },
   "cell_type": "code",
   "source": [
    "from langchain_community.document_loaders import TextLoader\n",
    "from langchain_openai import OpenAIEmbeddings\n",
    "from langchain.text_splitter import CharacterTextSplitter\n",
    "from langchain_community.vectorstores import FAISS\n",
    "\n",
    "raw_documents = TextLoader('./story.txt').load()\n",
    "text_splitter = CharacterTextSplitter(\n",
    "    chunk_size=1000, \n",
    "    chunk_overlap=0\n",
    ")\n",
    "documents = text_splitter.split_documents(raw_documents)\n",
    "db = FAISS.from_documents(documents, OpenAIEmbeddings())"
   ],
   "id": "4459b51c8556b205",
   "outputs": [],
   "execution_count": 14
  },
  {
   "metadata": {
    "ExecuteTime": {
     "end_time": "2024-06-05T16:07:54.323920Z",
     "start_time": "2024-06-05T16:07:53.886584Z"
    }
   },
   "cell_type": "code",
   "source": [
    "query = 'Who said \"No, I dare not take it.\"?'\n",
    "docs = db.similarity_search(query)\n",
    "print(docs[0].page_content)"
   ],
   "id": "997b5b6c47a18d10",
   "outputs": [
    {
     "name": "stdout",
     "output_type": "stream",
     "text": [
      "“No,” answered Snow-White; “no, I dare not take it.”\n",
      "\n",
      "“What! are you afraid of it?” cried the old woman. “There, see—I will cut the apple in halves; do you eat the red cheeks, and I will eat the core.” (The apple was so artfully made that the red cheeks alone were poisoned.) Snow-White very much wished for the beautiful apple, and when she saw the woman eating the core she could no longer resist, but, stretching out her hand, took the poisoned part. Scarcely had she placed a piece in her mouth when she fell down dead upon the ground. Then the Queen, looking at her with glittering eyes, and laughing bitterly, exclaimed, “White as snow, red as blood, black as ebony! This time the Dwarfs cannot reawaken you.”\n",
      "\n",
      "When she reached home and consulted her mirror—\n",
      "\n",
      "“Mirror, mirror on the wall,\n",
      "Who is the fairest of us all?”\n",
      "\n",
      "it answered:\n",
      "\n",
      "“The Queen is fairest of the day.”\n",
      "\n",
      "Then her envious heart was at rest, as peacefully as an envious heart can rest.\n"
     ]
    }
   ],
   "execution_count": 15
  },
  {
   "metadata": {},
   "cell_type": "markdown",
   "source": "# Stage 7: Chat Bot",
   "id": "be8ac438b91d4486"
  },
  {
   "metadata": {
    "ExecuteTime": {
     "end_time": "2024-06-05T16:13:44.636264Z",
     "start_time": "2024-06-05T16:13:38.872838Z"
    }
   },
   "cell_type": "code",
   "source": [
    "from langchain_core.runnables.history import RunnableWithMessageHistory\n",
    "from langchain_community.chat_message_histories import ChatMessageHistory\n",
    "from langchain.agents import AgentExecutor, create_react_agent\n",
    "from langchain import hub\n",
    "\n",
    "prompt = hub.pull(\"hwchase17/react-chat\")\n",
    "\n",
    "chat_history = ChatMessageHistory(messages=[], session_id=\"test-session\")\n",
    "\n",
    "agent = create_react_agent(\n",
    "    llm=llm, \n",
    "    tools=tools_set, \n",
    "    prompt=prompt\n",
    ")\n",
    "agent_executor = AgentExecutor(agent=agent, tools=tools_set, verbose=True, handle_parsing_errors=True)\n",
    "\n",
    "agent_with_chat_history = RunnableWithMessageHistory(\n",
    "    agent_executor,\n",
    "    lambda session_id: chat_history,\n",
    "    input_messages_key=\"input\",\n",
    "    history_messages_key=\"chat_history\",\n",
    ")\n"
   ],
   "id": "7b424b203c4b8a59",
   "outputs": [],
   "execution_count": 16
  },
  {
   "metadata": {
    "ExecuteTime": {
     "end_time": "2024-06-05T16:14:04.087248Z",
     "start_time": "2024-06-05T16:14:01.856626Z"
    }
   },
   "cell_type": "code",
   "source": [
    "agent_with_chat_history.invoke(\n",
    "    {\"input\": \"Hello\"},\n",
    "    config={\"configurable\": {\"session_id\": \"<foo>\"}},\n",
    ")['output']"
   ],
   "id": "b4b2c960c0053a85",
   "outputs": [
    {
     "name": "stdout",
     "output_type": "stream",
     "text": [
      "\n",
      "\n",
      "\u001B[1m> Entering new AgentExecutor chain...\u001B[0m\n",
      "\u001B[32;1m\u001B[1;3mHello! How can I assist you today?\u001B[0mInvalid Format: Missing 'Action:' after 'Thought:\u001B[32;1m\u001B[1;3mDo I need to use a tool? No\n",
      "Final Answer: No, I just wanted to say hello! How are you today?\u001B[0m\n",
      "\n",
      "\u001B[1m> Finished chain.\u001B[0m\n"
     ]
    },
    {
     "data": {
      "text/plain": [
       "'No, I just wanted to say hello! How are you today?'"
      ]
     },
     "execution_count": 17,
     "metadata": {},
     "output_type": "execute_result"
    }
   ],
   "execution_count": 17
  },
  {
   "metadata": {
    "ExecuteTime": {
     "end_time": "2024-06-05T16:14:20.308090Z",
     "start_time": "2024-06-05T16:14:13.745248Z"
    }
   },
   "cell_type": "code",
   "source": [
    "agent_with_chat_history.invoke(\n",
    "    {\"input\": \"How are you?\"},\n",
    "    config={\"configurable\": {\"session_id\": \"<foo>\"}},\n",
    ")['output']"
   ],
   "id": "7871fbcfa7307721",
   "outputs": [
    {
     "name": "stdout",
     "output_type": "stream",
     "text": [
      "\n",
      "\n",
      "\u001B[1m> Entering new AgentExecutor chain...\u001B[0m\n",
      "\u001B[32;1m\u001B[1;3mThought: Do I need to use a tool? No\n",
      "Final Answer: I'm just a machine learning model, so I don't have feelings, but thank you for asking! How can I assist you today?\u001B[0m\n",
      "\n",
      "\u001B[1m> Finished chain.\u001B[0m\n"
     ]
    },
    {
     "data": {
      "text/plain": [
       "\"I'm just a machine learning model, so I don't have feelings, but thank you for asking! How can I assist you today?\""
      ]
     },
     "execution_count": 18,
     "metadata": {},
     "output_type": "execute_result"
    }
   ],
   "execution_count": 18
  },
  {
   "metadata": {
    "ExecuteTime": {
     "end_time": "2024-06-05T16:14:37.711551Z",
     "start_time": "2024-06-05T16:14:32.088247Z"
    }
   },
   "cell_type": "code",
   "source": [
    "agent_with_chat_history.invoke(\n",
    "    {\"input\": \"How many people live in Antarctica?\"},\n",
    "    config={\"configurable\": {\"session_id\": \"<foo>\"}},\n",
    ")['output']"
   ],
   "id": "8f67fb3cf83bd8b6",
   "outputs": [
    {
     "name": "stdout",
     "output_type": "stream",
     "text": [
      "\n",
      "\n",
      "\u001B[1m> Entering new AgentExecutor chain...\u001B[0m\n",
      "\u001B[32;1m\u001B[1;3mThought: Do I need to use a tool? Yes\n",
      "Action: Wikipedia\n",
      "Action Input: Antarctica population\u001B[0m\u001B[36;1m\u001B[1;3mPage: Antarctica\n",
      "Summary: Antarctica ( ) is Earth's southernmost and least-populated continent. Situated almost entirely south of the Antarctic Circle and surrounded by the Southern Ocean (also known as the Antarctic Ocean), it contains the geographic South Pole. Antarctica is the fifth-largest continent, being about 40% larger than Europe, and has an area of 14,200,000 km2 (5,500,000 sq mi). Most of Antarctica is covered by the Antarctic ice sheet, with an average thickness of 1.9 km (1.2 mi).\n",
      "Antarctica is, on average, the coldest, driest, and windiest of the continents, and it has the highest average elevation. It is mainly a polar desert, with annual precipitation of over 200 mm (8 in) along the coast and far less inland. About 70% of the world's freshwater reserves are frozen in Antarctica, which, if melted, would raise global sea levels by almost 60 metres (200 ft). Antarctica holds the record for the lowest measured temperature on Earth, −89.2 °C (−128.6 °F). The coastal regions can reach temperatures over 10 °C (50 °F) in the summer. Native species of animals include mites, nematodes, penguins, seals and tardigrades. Where vegetation occurs, it is mostly in the form of lichen or moss.\n",
      "The ice shelves of Antarctica were probably first seen in 1820, during a Russian expedition led by Fabian Gottlieb von Bellingshausen and Mikhail Lazarev. The decades that followed saw further exploration by French, American, and British expeditions. The first confirmed landing was by a Norwegian team in 1895. In the early 20th century, there were a few expeditions into the interior of the continent. British explorers Robert Falcon Scott and Ernest Shackleton were the first to reach the magnetic South Pole in 1909, and the geographic South Pole was first reached in 1911 by Norwegian explorer Roald Amundsen.\n",
      "Antarctica is governed by about 30 countries, all of which are parties of the 1959 Antarctic Treaty System. According to the terms of the treaty, military activity, mining, nuclear explosions, and nuclear waste disposal are all prohibited in Antarctica. Tourism, fishing and research are the main human activities in and around Antarctica. During the summer months, about 5,000 people reside at research stations, a figure that drops to around 1,000 in the winter. Despite the continent's remoteness, human activity has a significant effect on it via pollution, ozone depletion, and climate change. The melting of the potentially unstable West Antarctic ice sheet causes the most uncertainty in century-scale projections of sea level rise, and the same melting also affects the Southern Ocean overturning circulation, which can eventually lead to significant impacts on the Southern Hemisphere climate and Southern Ocean productivity.\n",
      "\n",
      "Page: Demographics of Antarctica\n",
      "Summary: Antarctica contains research stations and field camps that are staffed seasonally or year-round, and former whaling settlements. Approximately 12 nations, all signatory to the Antarctic Treaty, send personnel to perform seasonal (summer) or year-round research on the continent and in its surrounding oceans. There are also two official civilian settlements: Villa Las Estrellas in Base Presidente Eduardo Frei Montalva operated by Chile, and Fortín Sargento Cabral in Esperanza Base operated by Argentina.\n",
      "The population of people doing and supporting scientific research on the continent and its nearby islands south of 60 degrees south latitude (the region covered by the Antarctic Treaty) varies from approximately 4,000 in summer to 1,000 in winter. In addition, approximately 1,000 personnel including ship's crew and scientists doing onboard research are present in the waters of the treaty region. The largest station, McMurdo Station, has a summer population of about 1,000 people and a winter population of about 200. \n",
      "At least 11 children have been born in Antarctica. The first was Emilio Marcos Palma, born on 7 January 1978 to Argentine parents at Esperanza, Hope Bay, near the tip\u001B[0m\u001B[32;1m\u001B[1;3mDo I need to use a tool? No\n",
      "Final Answer: Approximately 4,000 people live in Antarctica during the summer months, and this number drops to around 1,000 in the winter.\u001B[0m\n",
      "\n",
      "\u001B[1m> Finished chain.\u001B[0m\n"
     ]
    },
    {
     "data": {
      "text/plain": [
       "'Approximately 4,000 people live in Antarctica during the summer months, and this number drops to around 1,000 in the winter.'"
      ]
     },
     "execution_count": 19,
     "metadata": {},
     "output_type": "execute_result"
    }
   ],
   "execution_count": 19
  },
  {
   "metadata": {
    "ExecuteTime": {
     "end_time": "2024-06-05T16:15:03.750375Z",
     "start_time": "2024-06-05T16:14:53.254726Z"
    }
   },
   "cell_type": "code",
   "source": [
    "agent_with_chat_history.invoke(\n",
    "    {\"input\": \"What was my first question?\"},\n",
    "    config={\"configurable\": {\"session_id\": \"<foo>\"}},\n",
    ")['output']"
   ],
   "id": "79e9edb604d424c2",
   "outputs": [
    {
     "name": "stdout",
     "output_type": "stream",
     "text": [
      "\n",
      "\n",
      "\u001B[1m> Entering new AgentExecutor chain...\u001B[0m\n",
      "\u001B[32;1m\u001B[1;3mThought: Do I need to use a tool? Yes\n",
      "Action: Wikipedia\n",
      "Action Input: \"How many people live in Antarctica?\"\u001B[0m\u001B[36;1m\u001B[1;3mPage: Antarctica\n",
      "Summary: Antarctica ( ) is Earth's southernmost and least-populated continent. Situated almost entirely south of the Antarctic Circle and surrounded by the Southern Ocean (also known as the Antarctic Ocean), it contains the geographic South Pole. Antarctica is the fifth-largest continent, being about 40% larger than Europe, and has an area of 14,200,000 km2 (5,500,000 sq mi). Most of Antarctica is covered by the Antarctic ice sheet, with an average thickness of 1.9 km (1.2 mi).\n",
      "Antarctica is, on average, the coldest, driest, and windiest of the continents, and it has the highest average elevation. It is mainly a polar desert, with annual precipitation of over 200 mm (8 in) along the coast and far less inland. About 70% of the world's freshwater reserves are frozen in Antarctica, which, if melted, would raise global sea levels by almost 60 metres (200 ft). Antarctica holds the record for the lowest measured temperature on Earth, −89.2 °C (−128.6 °F). The coastal regions can reach temperatures over 10 °C (50 °F) in the summer. Native species of animals include mites, nematodes, penguins, seals and tardigrades. Where vegetation occurs, it is mostly in the form of lichen or moss.\n",
      "The ice shelves of Antarctica were probably first seen in 1820, during a Russian expedition led by Fabian Gottlieb von Bellingshausen and Mikhail Lazarev. The decades that followed saw further exploration by French, American, and British expeditions. The first confirmed landing was by a Norwegian team in 1895. In the early 20th century, there were a few expeditions into the interior of the continent. British explorers Robert Falcon Scott and Ernest Shackleton were the first to reach the magnetic South Pole in 1909, and the geographic South Pole was first reached in 1911 by Norwegian explorer Roald Amundsen.\n",
      "Antarctica is governed by about 30 countries, all of which are parties of the 1959 Antarctic Treaty System. According to the terms of the treaty, military activity, mining, nuclear explosions, and nuclear waste disposal are all prohibited in Antarctica. Tourism, fishing and research are the main human activities in and around Antarctica. During the summer months, about 5,000 people reside at research stations, a figure that drops to around 1,000 in the winter. Despite the continent's remoteness, human activity has a significant effect on it via pollution, ozone depletion, and climate change. The melting of the potentially unstable West Antarctic ice sheet causes the most uncertainty in century-scale projections of sea level rise, and the same melting also affects the Southern Ocean overturning circulation, which can eventually lead to significant impacts on the Southern Hemisphere climate and Southern Ocean productivity.\n",
      "\n",
      "Page: Live Earth concert, Antarctica\n",
      "Summary: The Live Earth concert in Antarctica was held at Rothera Research Station, one in a series of Live Earth concerts that took place on July 7, 2007, in all seven continents. The band Nunatak performed as the lone act. Nunatak's performances, though performed in front of only 17 people, were broadcast all over the world. It was the first rock concert ever performed in Antarctica.\n",
      "\n",
      "Page: Women in Antarctica\n",
      "Summary: There may have been women in Antarctica, exploring the regions around Antarctica for many centuries. The most celebrated \"first\" for women was in 1935 when Caroline Mikkelsen became the first woman to set foot on one of Antarctica's islands. Early male explorers, such as Richard Byrd, named areas of Antarctica after wives and female heads of state. As Antarctica moved from a place of exploration and conquest to a scientific frontier, women worked to be included in the sciences. The first countries to have female scientists working in Antarctica were the Soviet Union, South Africa and Argentina.\n",
      "Besides exploring and working as scientists, women have also played supportive roles as wives, fund-raisers, publicists, historians, curators and administrators of organizat\u001B[0m\u001B[32;1m\u001B[1;3mFinal Answer: Your first question was \"How many people live in Antarctica?\" and the answer is that during the summer months, about 5,000 people reside at research stations, a figure that drops to around 1,000 in the winter.\u001B[0m\n",
      "\n",
      "\u001B[1m> Finished chain.\u001B[0m\n"
     ]
    },
    {
     "data": {
      "text/plain": [
       "'Your first question was \"How many people live in Antarctica?\" and the answer is that during the summer months, about 5,000 people reside at research stations, a figure that drops to around 1,000 in the winter.'"
      ]
     },
     "execution_count": 20,
     "metadata": {},
     "output_type": "execute_result"
    }
   ],
   "execution_count": 20
  },
  {
   "metadata": {},
   "cell_type": "code",
   "source": "",
   "id": "dba4fabc9bca62ac",
   "outputs": [],
   "execution_count": null
  }
 ],
 "metadata": {
  "kernelspec": {
   "display_name": "Python 3",
   "language": "python",
   "name": "python3"
  },
  "language_info": {
   "codemirror_mode": {
    "name": "ipython",
    "version": 2
   },
   "file_extension": ".py",
   "mimetype": "text/x-python",
   "name": "python",
   "nbconvert_exporter": "python",
   "pygments_lexer": "ipython2",
   "version": "2.7.6"
  }
 },
 "nbformat": 4,
 "nbformat_minor": 5
}
